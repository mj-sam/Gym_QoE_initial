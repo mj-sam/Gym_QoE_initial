{
 "cells": [
  {
   "cell_type": "code",
   "execution_count": 1,
   "id": "2dc4688f-b225-49a5-8088-c4c9e0163275",
   "metadata": {},
   "outputs": [],
   "source": [
    "import pandas as pd"
   ]
  },
  {
   "cell_type": "code",
   "execution_count": 5,
   "id": "ca1f6fcc-82d2-448e-b95c-e9f85fe55670",
   "metadata": {},
   "outputs": [],
   "source": [
    "config_execution_path = './execution_config.csv'"
   ]
  },
  {
   "cell_type": "code",
   "execution_count": null,
   "id": "77ae98b9-d282-4736-b4d5-383c1feb7447",
   "metadata": {},
   "outputs": [],
   "source": []
  },
  {
   "cell_type": "code",
   "execution_count": null,
   "id": "0df17c86-6337-4f0a-ac07-f05cef1bc402",
   "metadata": {},
   "outputs": [],
   "source": [
    "config_execution = pd.read_csv(config_execution_path)\n",
    "results = pd.read_csv(results_path)\n",
    "\n",
    "# Select the specified columns for comparison\n",
    "columns_to_compare = [\n",
    "    'obj_included', 'qoe_included', 'qoe_simulation_modes',\n",
    "    'qoe_accuracies', 'latency_weights', 'gini_weights',\n",
    "    'cost_weights', 'qoe_weights'\n",
    "]\n",
    "\n",
    "# Extract only the relevant columns\n",
    "config_execution_subset = config_execution[columns_to_compare]\n",
    "results_subset = results[columns_to_compare]\n",
    "\n",
    "# Identify rows in config_execution that are not in results\n",
    "missing_configs = config_execution_subset[\n",
    "    ~config_execution_subset.isin(results_subset.to_dict(orient='list')).all(axis=1)\n",
    "]"
   ]
  }
 ],
 "metadata": {
  "kernelspec": {
   "display_name": "Python [conda env:base] *",
   "language": "python",
   "name": "conda-base-py"
  },
  "language_info": {
   "codemirror_mode": {
    "name": "ipython",
    "version": 3
   },
   "file_extension": ".py",
   "mimetype": "text/x-python",
   "name": "python",
   "nbconvert_exporter": "python",
   "pygments_lexer": "ipython3",
   "version": "3.12.2"
  }
 },
 "nbformat": 4,
 "nbformat_minor": 5
}
